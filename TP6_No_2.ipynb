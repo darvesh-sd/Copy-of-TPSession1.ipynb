{
  "nbformat": 4,
  "nbformat_minor": 0,
  "metadata": {
    "colab": {
      "provenance": [],
      "authorship_tag": "ABX9TyPA4BnAkIWcn2wtOYYLI6j4",
      "include_colab_link": true
    },
    "kernelspec": {
      "name": "python3",
      "display_name": "Python 3"
    },
    "language_info": {
      "name": "python"
    }
  },
  "cells": [
    {
      "cell_type": "markdown",
      "metadata": {
        "id": "view-in-github",
        "colab_type": "text"
      },
      "source": [
        "<a href=\"https://colab.research.google.com/github/darvesh-sd/Copy-of-TPSessions.ipynb/blob/main/TP6_No_2.ipynb\" target=\"_parent\"><img src=\"https://colab.research.google.com/assets/colab-badge.svg\" alt=\"Open In Colab\"/></a>"
      ]
    },
    {
      "cell_type": "code",
      "source": [
        "# Install necessary libraries\n",
        "!pip install transformers\n",
        "!pip install newspaper3k\n",
        "!pip install lxml_html_clean  # Install the necessary dependency for lxml\n",
        "\n",
        "# Now you can continue with the rest of your code\n",
        "from newspaper import Article\n",
        "\n",
        "# URL of the article (replace with your chosen article's link)\n",
        "article_url = 'https://www.economicsobservatory.com/what-happened-in-the-2024-uk-general-election'\n",
        "\n",
        "# Fetch the article\n",
        "article = Article(article_url)\n",
        "article.download()\n",
        "article.parse()\n",
        "\n",
        "# Display the article's text\n",
        "text = article.text\n",
        "print(text[:1000])  # Print first 1000 characters for preview\n"
      ],
      "metadata": {
        "colab": {
          "base_uri": "https://localhost:8080/"
        },
        "id": "ti_HFzPHCvyy",
        "outputId": "00a5b848-deed-4eab-dca4-6a668d034d53"
      },
      "execution_count": 23,
      "outputs": [
        {
          "output_type": "stream",
          "name": "stdout",
          "text": [
            "Requirement already satisfied: transformers in /usr/local/lib/python3.10/dist-packages (4.46.3)\n",
            "Requirement already satisfied: filelock in /usr/local/lib/python3.10/dist-packages (from transformers) (3.16.1)\n",
            "Requirement already satisfied: huggingface-hub<1.0,>=0.23.2 in /usr/local/lib/python3.10/dist-packages (from transformers) (0.26.3)\n",
            "Requirement already satisfied: numpy>=1.17 in /usr/local/lib/python3.10/dist-packages (from transformers) (1.26.4)\n",
            "Requirement already satisfied: packaging>=20.0 in /usr/local/lib/python3.10/dist-packages (from transformers) (24.2)\n",
            "Requirement already satisfied: pyyaml>=5.1 in /usr/local/lib/python3.10/dist-packages (from transformers) (6.0.2)\n",
            "Requirement already satisfied: regex!=2019.12.17 in /usr/local/lib/python3.10/dist-packages (from transformers) (2024.9.11)\n",
            "Requirement already satisfied: requests in /usr/local/lib/python3.10/dist-packages (from transformers) (2.32.3)\n",
            "Requirement already satisfied: tokenizers<0.21,>=0.20 in /usr/local/lib/python3.10/dist-packages (from transformers) (0.20.3)\n",
            "Requirement already satisfied: safetensors>=0.4.1 in /usr/local/lib/python3.10/dist-packages (from transformers) (0.4.5)\n",
            "Requirement already satisfied: tqdm>=4.27 in /usr/local/lib/python3.10/dist-packages (from transformers) (4.66.6)\n",
            "Requirement already satisfied: fsspec>=2023.5.0 in /usr/local/lib/python3.10/dist-packages (from huggingface-hub<1.0,>=0.23.2->transformers) (2024.10.0)\n",
            "Requirement already satisfied: typing-extensions>=3.7.4.3 in /usr/local/lib/python3.10/dist-packages (from huggingface-hub<1.0,>=0.23.2->transformers) (4.12.2)\n",
            "Requirement already satisfied: charset-normalizer<4,>=2 in /usr/local/lib/python3.10/dist-packages (from requests->transformers) (3.4.0)\n",
            "Requirement already satisfied: idna<4,>=2.5 in /usr/local/lib/python3.10/dist-packages (from requests->transformers) (3.10)\n",
            "Requirement already satisfied: urllib3<3,>=1.21.1 in /usr/local/lib/python3.10/dist-packages (from requests->transformers) (2.2.3)\n",
            "Requirement already satisfied: certifi>=2017.4.17 in /usr/local/lib/python3.10/dist-packages (from requests->transformers) (2024.8.30)\n",
            "Requirement already satisfied: newspaper3k in /usr/local/lib/python3.10/dist-packages (0.2.8)\n",
            "Requirement already satisfied: beautifulsoup4>=4.4.1 in /usr/local/lib/python3.10/dist-packages (from newspaper3k) (4.12.3)\n",
            "Requirement already satisfied: Pillow>=3.3.0 in /usr/local/lib/python3.10/dist-packages (from newspaper3k) (11.0.0)\n",
            "Requirement already satisfied: PyYAML>=3.11 in /usr/local/lib/python3.10/dist-packages (from newspaper3k) (6.0.2)\n",
            "Requirement already satisfied: cssselect>=0.9.2 in /usr/local/lib/python3.10/dist-packages (from newspaper3k) (1.2.0)\n",
            "Requirement already satisfied: lxml>=3.6.0 in /usr/local/lib/python3.10/dist-packages (from newspaper3k) (5.3.0)\n",
            "Requirement already satisfied: nltk>=3.2.1 in /usr/local/lib/python3.10/dist-packages (from newspaper3k) (3.9.1)\n",
            "Requirement already satisfied: requests>=2.10.0 in /usr/local/lib/python3.10/dist-packages (from newspaper3k) (2.32.3)\n",
            "Requirement already satisfied: feedparser>=5.2.1 in /usr/local/lib/python3.10/dist-packages (from newspaper3k) (6.0.11)\n",
            "Requirement already satisfied: tldextract>=2.0.1 in /usr/local/lib/python3.10/dist-packages (from newspaper3k) (5.1.3)\n",
            "Requirement already satisfied: feedfinder2>=0.0.4 in /usr/local/lib/python3.10/dist-packages (from newspaper3k) (0.0.4)\n",
            "Requirement already satisfied: jieba3k>=0.35.1 in /usr/local/lib/python3.10/dist-packages (from newspaper3k) (0.35.1)\n",
            "Requirement already satisfied: python-dateutil>=2.5.3 in /usr/local/lib/python3.10/dist-packages (from newspaper3k) (2.8.2)\n",
            "Requirement already satisfied: tinysegmenter==0.3 in /usr/local/lib/python3.10/dist-packages (from newspaper3k) (0.3)\n",
            "Requirement already satisfied: soupsieve>1.2 in /usr/local/lib/python3.10/dist-packages (from beautifulsoup4>=4.4.1->newspaper3k) (2.6)\n",
            "Requirement already satisfied: six in /usr/local/lib/python3.10/dist-packages (from feedfinder2>=0.0.4->newspaper3k) (1.16.0)\n",
            "Requirement already satisfied: sgmllib3k in /usr/local/lib/python3.10/dist-packages (from feedparser>=5.2.1->newspaper3k) (1.0.0)\n",
            "Requirement already satisfied: click in /usr/local/lib/python3.10/dist-packages (from nltk>=3.2.1->newspaper3k) (8.1.7)\n",
            "Requirement already satisfied: joblib in /usr/local/lib/python3.10/dist-packages (from nltk>=3.2.1->newspaper3k) (1.4.2)\n",
            "Requirement already satisfied: regex>=2021.8.3 in /usr/local/lib/python3.10/dist-packages (from nltk>=3.2.1->newspaper3k) (2024.9.11)\n",
            "Requirement already satisfied: tqdm in /usr/local/lib/python3.10/dist-packages (from nltk>=3.2.1->newspaper3k) (4.66.6)\n",
            "Requirement already satisfied: charset-normalizer<4,>=2 in /usr/local/lib/python3.10/dist-packages (from requests>=2.10.0->newspaper3k) (3.4.0)\n",
            "Requirement already satisfied: idna<4,>=2.5 in /usr/local/lib/python3.10/dist-packages (from requests>=2.10.0->newspaper3k) (3.10)\n",
            "Requirement already satisfied: urllib3<3,>=1.21.1 in /usr/local/lib/python3.10/dist-packages (from requests>=2.10.0->newspaper3k) (2.2.3)\n",
            "Requirement already satisfied: certifi>=2017.4.17 in /usr/local/lib/python3.10/dist-packages (from requests>=2.10.0->newspaper3k) (2024.8.30)\n",
            "Requirement already satisfied: requests-file>=1.4 in /usr/local/lib/python3.10/dist-packages (from tldextract>=2.0.1->newspaper3k) (2.1.0)\n",
            "Requirement already satisfied: filelock>=3.0.8 in /usr/local/lib/python3.10/dist-packages (from tldextract>=2.0.1->newspaper3k) (3.16.1)\n",
            "Requirement already satisfied: lxml_html_clean in /usr/local/lib/python3.10/dist-packages (0.4.1)\n",
            "Requirement already satisfied: lxml in /usr/local/lib/python3.10/dist-packages (from lxml_html_clean) (5.3.0)\n",
            "Ten charts tell the story of Labour’s landslide victory in the UK’s 2024 general election, putting it in historical perspective and, in the data on turnout, revealing the disengagement of many voters.\n",
            "\n",
            "On 4 July, the UK electorate voted Keir Starmer’s Labour into power with a landslide majority. The party won a total of 412 seats (to the Conservatives’ total of 121), an increase of 211 seats since the previous general election in 2019. This gives them a large majority as they form a government for the first time in 14 years.\n",
            "\n",
            "Supporters argue that the new prime minister and his cabinet now have a strong mandate to govern, while critics point to Labour only getting 34% of the overall vote. This may have been a tactical move to ensure victory, but some see it as a ‘double-edged sword’.\n",
            "\n",
            "In this article, we look at the results of the 2024 general election, how they compare to elections over the past 100 years and what they tell us about the political mood of the country.\n",
            "\n",
            "Labour’s seat sh\n"
          ]
        }
      ]
    },
    {
      "cell_type": "code",
      "source": [
        "from transformers import pipeline\n",
        "\n",
        "# Load pre-trained summarization models from HuggingFace\n",
        "summarizer_bart = pipeline(\"summarization\", model=\"facebook/bart-large-cnn\")\n",
        "summarizer_t5 = pipeline(\"summarization\", model=\"t5-large\")\n",
        "\n",
        "# Choose a sample text to summarize\n",
        "article_text = text[:2000]  # Use the first 2000 characters for testing\n"
      ],
      "metadata": {
        "id": "LuTRxCSBIPen"
      },
      "execution_count": 24,
      "outputs": []
    },
    {
      "cell_type": "code",
      "source": [
        "# Generate summary using BART\n",
        "summary_bart = summarizer_bart(article_text, max_length=150, min_length=50, do_sample=False)\n",
        "print(\"BART Summary: \", summary_bart[0]['summary_text'])\n",
        "\n",
        "# Generate summary using T5\n",
        "summary_t5 = summarizer_t5(article_text, max_length=150, min_length=50, do_sample=False)\n",
        "print(\"T5 Summary: \", summary_t5[0]['summary_text'])\n"
      ],
      "metadata": {
        "colab": {
          "base_uri": "https://localhost:8080/"
        },
        "id": "5Y7hQA06Cyi9",
        "outputId": "bc913710-ffc7-427b-8833-22deba66a31c"
      },
      "execution_count": 25,
      "outputs": [
        {
          "output_type": "stream",
          "name": "stdout",
          "text": [
            "BART Summary:  Ten charts tell the story of Labour’s landslide victory in the 2024 general election. The party won a total of 412 seats (to the Conservatives’ total of 121), an increase of 211 seats since the previous general election in 2019. Supporters argue that the new prime minister and his cabinet now have a strong mandate to govern.\n",
            "T5 Summary:  on 4 July, the UK electorate voted labour into power with a landslide majority . the party won a total of 412 seats (to the conservatives’ total of 121) this gives them a large majority as they form a government for the first time in 14 years . in this article, we look at the results of the 2024 general election .\n"
          ]
        }
      ]
    },
    {
      "cell_type": "code",
      "source": [
        "# Comparison output\n",
        "comparison = {\n",
        "    'BART Summary': summary_bart[0]['summary_text'],\n",
        "    'T5 Summary': summary_t5[0]['summary_text'],\n",
        "}\n",
        "\n",
        "# Print the comparison of all summaries\n",
        "for model, summary in comparison.items():\n",
        "    print(f\"\\n{model}:\\n{summary}\\n\")\n"
      ],
      "metadata": {
        "colab": {
          "base_uri": "https://localhost:8080/"
        },
        "id": "qL5DazuiIa6s",
        "outputId": "a97faa7a-6838-478c-ed81-4820b1411b25"
      },
      "execution_count": 26,
      "outputs": [
        {
          "output_type": "stream",
          "name": "stdout",
          "text": [
            "\n",
            "BART Summary:\n",
            "Ten charts tell the story of Labour’s landslide victory in the 2024 general election. The party won a total of 412 seats (to the Conservatives’ total of 121), an increase of 211 seats since the previous general election in 2019. Supporters argue that the new prime minister and his cabinet now have a strong mandate to govern.\n",
            "\n",
            "\n",
            "T5 Summary:\n",
            "on 4 July, the UK electorate voted labour into power with a landslide majority . the party won a total of 412 seats (to the conservatives’ total of 121) this gives them a large majority as they form a government for the first time in 14 years . in this article, we look at the results of the 2024 general election .\n",
            "\n"
          ]
        }
      ]
    },
    {
      "cell_type": "code",
      "source": [
        "# Conclusion\n",
        "conclusion = \"\"\"\n",
        "Based on the analysis of the summaries generated by the three models, we can conclude that:\n",
        "- BART produces concise, fact-based summaries that retain the key information.\n",
        "- T5 generates a slightly more detailed summary, but it may not always be as concise.\n",
        "\n",
        "In this case, for articles requiring clear, short summaries, BART is the best choice. T5 is great for cases where more context or details are needed. GPT-3-like models can be useful when a conversational style is preferred, though they might not always be as efficient.\n",
        "\"\"\"\n",
        "\n",
        "print(conclusion)\n"
      ],
      "metadata": {
        "colab": {
          "base_uri": "https://localhost:8080/"
        },
        "id": "TyoxaKaaIbo_",
        "outputId": "4f9de823-435b-49c4-f0c6-7106b37cc085"
      },
      "execution_count": 27,
      "outputs": [
        {
          "output_type": "stream",
          "name": "stdout",
          "text": [
            "\n",
            "Based on the analysis of the summaries generated by the three models, we can conclude that:\n",
            "- BART produces concise, fact-based summaries that retain the key information.\n",
            "- T5 generates a slightly more detailed summary, but it may not always be as concise.\n",
            "\n",
            "In this case, for articles requiring clear, short summaries, BART is the best choice. T5 is great for cases where more context or details are needed. GPT-3-like models can be useful when a conversational style is preferred, though they might not always be as efficient.\n",
            "\n"
          ]
        }
      ]
    }
  ]
}