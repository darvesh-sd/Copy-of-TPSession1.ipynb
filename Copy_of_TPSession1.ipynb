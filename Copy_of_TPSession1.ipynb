{
  "nbformat": 4,
  "nbformat_minor": 0,
  "metadata": {
    "colab": {
      "provenance": [],
      "authorship_tag": "ABX9TyOw/z3Rr02DgN70uO+ucsZ5",
      "include_colab_link": true
    },
    "kernelspec": {
      "name": "python3",
      "display_name": "Python 3"
    },
    "language_info": {
      "name": "python"
    }
  },
  "cells": [
    {
      "cell_type": "markdown",
      "metadata": {
        "id": "view-in-github",
        "colab_type": "text"
      },
      "source": [
        "<a href=\"https://colab.research.google.com/github/darvesh-sd/Copy-of-TPSession1.ipynb/blob/main/Copy_of_TPSession1.ipynb\" target=\"_parent\"><img src=\"https://colab.research.google.com/assets/colab-badge.svg\" alt=\"Open In Colab\"/></a>"
      ]
    },
    {
      "cell_type": "markdown",
      "source": [
        "Manipulation des données avec Python Panda - Darvesh"
      ],
      "metadata": {
        "id": "q3RJqGOUfp57"
      }
    },
    {
      "cell_type": "markdown",
      "source": [
        "This segment imports the necessary libraries. pandas is used for data manipulation, matplotlib and seaborn for visualization, and files allows you to upload your Excel file."
      ],
      "metadata": {
        "id": "iMFIj2TUfvs3"
      }
    },
    {
      "cell_type": "code",
      "source": [
        "# Step 1: Import necessary libraries\n",
        "import pandas as pd              # For data manipulation and analysis\n",
        "import matplotlib.pyplot as plt   # For data visualization\n",
        "import seaborn as sns            # For advanced data visualization\n",
        "from google.colab import files    # For uploading files in Google Colab\n",
        "\n",
        "# Set visualization style for seaborn\n",
        "sns.set(style='whitegrid')       # Use a white grid background for plots\n"
      ],
      "metadata": {
        "id": "S7UCx5pymwE-"
      },
      "execution_count": 46,
      "outputs": []
    },
    {
      "cell_type": "markdown",
      "source": [
        "This code prompts the user to upload the Excel file containing car brands data. The uploaded file is stored in a dictionary."
      ],
      "metadata": {
        "id": "mXDnM6Qdf2Fk"
      }
    },
    {
      "cell_type": "code",
      "source": [
        "# Step 2: Upload the Excel file\n",
        "print(\"Please upload the Excel file containing car brands data:\")\n",
        "uploaded = files.upload()  # Opens a file dialog for uploading the file\n",
        "\n"
      ],
      "metadata": {
        "colab": {
          "base_uri": "https://localhost:8080/",
          "height": 90
        },
        "id": "iWoIm8KTf4Dj",
        "outputId": "3a8980c3-79fe-4aa8-9092-a461a16c8b44"
      },
      "execution_count": 47,
      "outputs": [
        {
          "output_type": "stream",
          "name": "stdout",
          "text": [
            "Please upload the Excel file containing car brands data:\n"
          ]
        },
        {
          "output_type": "display_data",
          "data": {
            "text/plain": [
              "<IPython.core.display.HTML object>"
            ],
            "text/html": [
              "\n",
              "     <input type=\"file\" id=\"files-b86bcc49-09fc-4913-8f26-4e5e2391221a\" name=\"files[]\" multiple disabled\n",
              "        style=\"border:none\" />\n",
              "     <output id=\"result-b86bcc49-09fc-4913-8f26-4e5e2391221a\">\n",
              "      Upload widget is only available when the cell has been executed in the\n",
              "      current browser session. Please rerun this cell to enable.\n",
              "      </output>\n",
              "      <script>// Copyright 2017 Google LLC\n",
              "//\n",
              "// Licensed under the Apache License, Version 2.0 (the \"License\");\n",
              "// you may not use this file except in compliance with the License.\n",
              "// You may obtain a copy of the License at\n",
              "//\n",
              "//      http://www.apache.org/licenses/LICENSE-2.0\n",
              "//\n",
              "// Unless required by applicable law or agreed to in writing, software\n",
              "// distributed under the License is distributed on an \"AS IS\" BASIS,\n",
              "// WITHOUT WARRANTIES OR CONDITIONS OF ANY KIND, either express or implied.\n",
              "// See the License for the specific language governing permissions and\n",
              "// limitations under the License.\n",
              "\n",
              "/**\n",
              " * @fileoverview Helpers for google.colab Python module.\n",
              " */\n",
              "(function(scope) {\n",
              "function span(text, styleAttributes = {}) {\n",
              "  const element = document.createElement('span');\n",
              "  element.textContent = text;\n",
              "  for (const key of Object.keys(styleAttributes)) {\n",
              "    element.style[key] = styleAttributes[key];\n",
              "  }\n",
              "  return element;\n",
              "}\n",
              "\n",
              "// Max number of bytes which will be uploaded at a time.\n",
              "const MAX_PAYLOAD_SIZE = 100 * 1024;\n",
              "\n",
              "function _uploadFiles(inputId, outputId) {\n",
              "  const steps = uploadFilesStep(inputId, outputId);\n",
              "  const outputElement = document.getElementById(outputId);\n",
              "  // Cache steps on the outputElement to make it available for the next call\n",
              "  // to uploadFilesContinue from Python.\n",
              "  outputElement.steps = steps;\n",
              "\n",
              "  return _uploadFilesContinue(outputId);\n",
              "}\n",
              "\n",
              "// This is roughly an async generator (not supported in the browser yet),\n",
              "// where there are multiple asynchronous steps and the Python side is going\n",
              "// to poll for completion of each step.\n",
              "// This uses a Promise to block the python side on completion of each step,\n",
              "// then passes the result of the previous step as the input to the next step.\n",
              "function _uploadFilesContinue(outputId) {\n",
              "  const outputElement = document.getElementById(outputId);\n",
              "  const steps = outputElement.steps;\n",
              "\n",
              "  const next = steps.next(outputElement.lastPromiseValue);\n",
              "  return Promise.resolve(next.value.promise).then((value) => {\n",
              "    // Cache the last promise value to make it available to the next\n",
              "    // step of the generator.\n",
              "    outputElement.lastPromiseValue = value;\n",
              "    return next.value.response;\n",
              "  });\n",
              "}\n",
              "\n",
              "/**\n",
              " * Generator function which is called between each async step of the upload\n",
              " * process.\n",
              " * @param {string} inputId Element ID of the input file picker element.\n",
              " * @param {string} outputId Element ID of the output display.\n",
              " * @return {!Iterable<!Object>} Iterable of next steps.\n",
              " */\n",
              "function* uploadFilesStep(inputId, outputId) {\n",
              "  const inputElement = document.getElementById(inputId);\n",
              "  inputElement.disabled = false;\n",
              "\n",
              "  const outputElement = document.getElementById(outputId);\n",
              "  outputElement.innerHTML = '';\n",
              "\n",
              "  const pickedPromise = new Promise((resolve) => {\n",
              "    inputElement.addEventListener('change', (e) => {\n",
              "      resolve(e.target.files);\n",
              "    });\n",
              "  });\n",
              "\n",
              "  const cancel = document.createElement('button');\n",
              "  inputElement.parentElement.appendChild(cancel);\n",
              "  cancel.textContent = 'Cancel upload';\n",
              "  const cancelPromise = new Promise((resolve) => {\n",
              "    cancel.onclick = () => {\n",
              "      resolve(null);\n",
              "    };\n",
              "  });\n",
              "\n",
              "  // Wait for the user to pick the files.\n",
              "  const files = yield {\n",
              "    promise: Promise.race([pickedPromise, cancelPromise]),\n",
              "    response: {\n",
              "      action: 'starting',\n",
              "    }\n",
              "  };\n",
              "\n",
              "  cancel.remove();\n",
              "\n",
              "  // Disable the input element since further picks are not allowed.\n",
              "  inputElement.disabled = true;\n",
              "\n",
              "  if (!files) {\n",
              "    return {\n",
              "      response: {\n",
              "        action: 'complete',\n",
              "      }\n",
              "    };\n",
              "  }\n",
              "\n",
              "  for (const file of files) {\n",
              "    const li = document.createElement('li');\n",
              "    li.append(span(file.name, {fontWeight: 'bold'}));\n",
              "    li.append(span(\n",
              "        `(${file.type || 'n/a'}) - ${file.size} bytes, ` +\n",
              "        `last modified: ${\n",
              "            file.lastModifiedDate ? file.lastModifiedDate.toLocaleDateString() :\n",
              "                                    'n/a'} - `));\n",
              "    const percent = span('0% done');\n",
              "    li.appendChild(percent);\n",
              "\n",
              "    outputElement.appendChild(li);\n",
              "\n",
              "    const fileDataPromise = new Promise((resolve) => {\n",
              "      const reader = new FileReader();\n",
              "      reader.onload = (e) => {\n",
              "        resolve(e.target.result);\n",
              "      };\n",
              "      reader.readAsArrayBuffer(file);\n",
              "    });\n",
              "    // Wait for the data to be ready.\n",
              "    let fileData = yield {\n",
              "      promise: fileDataPromise,\n",
              "      response: {\n",
              "        action: 'continue',\n",
              "      }\n",
              "    };\n",
              "\n",
              "    // Use a chunked sending to avoid message size limits. See b/62115660.\n",
              "    let position = 0;\n",
              "    do {\n",
              "      const length = Math.min(fileData.byteLength - position, MAX_PAYLOAD_SIZE);\n",
              "      const chunk = new Uint8Array(fileData, position, length);\n",
              "      position += length;\n",
              "\n",
              "      const base64 = btoa(String.fromCharCode.apply(null, chunk));\n",
              "      yield {\n",
              "        response: {\n",
              "          action: 'append',\n",
              "          file: file.name,\n",
              "          data: base64,\n",
              "        },\n",
              "      };\n",
              "\n",
              "      let percentDone = fileData.byteLength === 0 ?\n",
              "          100 :\n",
              "          Math.round((position / fileData.byteLength) * 100);\n",
              "      percent.textContent = `${percentDone}% done`;\n",
              "\n",
              "    } while (position < fileData.byteLength);\n",
              "  }\n",
              "\n",
              "  // All done.\n",
              "  yield {\n",
              "    response: {\n",
              "      action: 'complete',\n",
              "    }\n",
              "  };\n",
              "}\n",
              "\n",
              "scope.google = scope.google || {};\n",
              "scope.google.colab = scope.google.colab || {};\n",
              "scope.google.colab._files = {\n",
              "  _uploadFiles,\n",
              "  _uploadFilesContinue,\n",
              "};\n",
              "})(self);\n",
              "</script> "
            ]
          },
          "metadata": {}
        },
        {
          "output_type": "stream",
          "name": "stdout",
          "text": [
            "Saving car_brands.csv to car_brands (4).csv\n"
          ]
        }
      ]
    },
    {
      "cell_type": "markdown",
      "source": [
        "For CSV files."
      ],
      "metadata": {
        "id": "Fuc-iKuTsh3e"
      }
    },
    {
      "cell_type": "code",
      "source": [
        "# Step 3 CSV: Read the uploaded CSV file into a DataFrame\n",
        "df = pd.read_csv(list(uploaded.keys())[0])  # Read the first uploaded file\n",
        "\n",
        "# Display the first few rows of the DataFrame\n",
        "print(\"Data Preview:\")\n",
        "print(df.head())  # Show the first 5 rows of the DataFrame\n"
      ],
      "metadata": {
        "colab": {
          "base_uri": "https://localhost:8080/"
        },
        "id": "EjTmCe_pnk0j",
        "outputId": "4df4839d-2314-4816-cedd-c5f3a0baa8e8"
      },
      "execution_count": 48,
      "outputs": [
        {
          "output_type": "stream",
          "name": "stdout",
          "text": [
            "Data Preview:\n",
            "       Brand    Model  Year  Price      Fuel  Color  Engine Size  Horsepower  \\\n",
            "0     Toyota  Corolla  2020  20000  Gasoline   Blue          1.8         139   \n",
            "1      Honda    Civic  2019  22000  Gasoline    Red          2.0         158   \n",
            "2       Ford  Mustang  2021  30000  Gasoline  Black          5.0         450   \n",
            "3  Chevrolet   Malibu  2020  24000  Gasoline  White          1.5         160   \n",
            "4      Tesla  Model 3  2022  35000  Electric   Gray          NaN         283   \n",
            "\n",
            "  Transmission  Rating  \n",
            "0    Automatic     4.5  \n",
            "1    Automatic     4.7  \n",
            "2       Manual     4.6  \n",
            "3    Automatic     4.3  \n",
            "4    Automatic     4.8  \n"
          ]
        }
      ]
    },
    {
      "cell_type": "markdown",
      "source": [
        "This segment reads the uploaded Excel file into a DataFrame using pandas. The engine='openpyxl' specifies that the file is in .xlsx format. The first few rows of the DataFrame are displayed to give a preview of the data."
      ],
      "metadata": {
        "id": "j_OO1ZKNf5VB"
      }
    },
    {
      "cell_type": "code",
      "source": [
        "# Step 3: Read the uploaded Excel file into a DataFrame\n",
        "# Specify the engine as 'openpyxl' for .xlsx files\n",
        "df = pd.read_excel(list(uploaded.keys())[0], engine='openpyxl')  # Read the first uploaded file\n",
        "\n",
        "# Display the first few rows of the DataFrame\n",
        "print(\"Data Preview:\")\n",
        "print(df.head())  # Show the first 5 rows of the DataFrame\n",
        "\n"
      ],
      "metadata": {
        "colab": {
          "base_uri": "https://localhost:8080/"
        },
        "id": "ZmDO6RRRf7kw",
        "outputId": "e12ca3d0-8d63-496d-c97a-18d705a3dd2f"
      },
      "execution_count": 40,
      "outputs": [
        {
          "output_type": "stream",
          "name": "stdout",
          "text": [
            "Data Preview:\n",
            "       Brand    Model  Year  Price      Fuel  Color  Engine Size  Horsepower  \\\n",
            "0     Toyota  Corolla  2020  20000  Gasoline   Blue          1.8         139   \n",
            "1      Honda    Civic  2019  22000  Gasoline    Red          2.0         158   \n",
            "2       Ford  Mustang  2021  30000  Gasoline  Black          5.0         450   \n",
            "3  Chevrolet   Malibu  2020  24000  Gasoline  White          1.5         160   \n",
            "4      Tesla  Model 3  2022  35000  Electric   Gray          NaN         283   \n",
            "\n",
            "  Transmission  Rating  \n",
            "0    Automatic     4.5  \n",
            "1    Automatic     4.7  \n",
            "2       Manual     4.6  \n",
            "3    Automatic     4.3  \n",
            "4    Automatic     4.8  \n"
          ]
        }
      ]
    },
    {
      "cell_type": "markdown",
      "source": [
        "This segment provides general information about the DataFrame, including data types and the number of non-null entries. It also shows descriptive statistics such as mean, median, and standard deviation for numerical columns."
      ],
      "metadata": {
        "id": "aVYZsRaYf9kR"
      }
    },
    {
      "cell_type": "code",
      "source": [
        "# Step 4: Display general information about the DataFrame\n",
        "print(\"\\nData Information:\")\n",
        "print(df.info())  # Provides details like column names, data types, and non-null counts\n",
        "\n",
        "# Step 5: Display descriptive statistics for numerical columns\n",
        "print(\"\\nDescriptive Statistics:\")\n",
        "print(df.describe())  # Shows summary statistics for numerical columns\n",
        "\n"
      ],
      "metadata": {
        "colab": {
          "base_uri": "https://localhost:8080/"
        },
        "id": "7Pula47xf_8l",
        "outputId": "b3dd704c-f53b-40fc-d223-2ce1496768b8"
      },
      "execution_count": 49,
      "outputs": [
        {
          "output_type": "stream",
          "name": "stdout",
          "text": [
            "\n",
            "Data Information:\n",
            "<class 'pandas.core.frame.DataFrame'>\n",
            "RangeIndex: 10 entries, 0 to 9\n",
            "Data columns (total 10 columns):\n",
            " #   Column        Non-Null Count  Dtype  \n",
            "---  ------        --------------  -----  \n",
            " 0   Brand         10 non-null     object \n",
            " 1   Model         10 non-null     object \n",
            " 2   Year          10 non-null     int64  \n",
            " 3   Price         10 non-null     int64  \n",
            " 4   Fuel          10 non-null     object \n",
            " 5   Color         10 non-null     object \n",
            " 6   Engine Size   9 non-null      float64\n",
            " 7   Horsepower    10 non-null     int64  \n",
            " 8   Transmission  10 non-null     object \n",
            " 9   Rating        10 non-null     float64\n",
            "dtypes: float64(2), int64(3), object(5)\n",
            "memory usage: 928.0+ bytes\n",
            "None\n",
            "\n",
            "Descriptive Statistics:\n",
            "              Year         Price  Engine Size  Horsepower     Rating\n",
            "count    10.000000     10.000000     9.000000   10.000000  10.000000\n",
            "mean   2020.100000  27200.000000     2.311111  217.500000   4.560000\n",
            "std       1.197219   8148.619515     1.040966   96.897712   0.150555\n",
            "min    2018.000000  19000.000000     1.500000  139.000000   4.300000\n",
            "25%    2019.250000  21250.000000     2.000000  149.750000   4.500000\n",
            "50%    2020.000000  23000.000000     2.000000  174.000000   4.550000\n",
            "75%    2021.000000  33750.000000     2.000000  253.250000   4.675000\n",
            "max    2022.000000  41000.000000     5.000000  450.000000   4.800000\n"
          ]
        }
      ]
    },
    {
      "cell_type": "markdown",
      "source": [
        "This segment creates a bar plot to visualize the number of cars for each fuel type. The figure size is set, and labels are added for clarity."
      ],
      "metadata": {
        "id": "qWI-RQ-qgBXH"
      }
    },
    {
      "cell_type": "code",
      "source": [
        "# Step 6: Visualize the count of cars by fuel type\n",
        "plt.figure(figsize=(10, 6))  # Set the figure size\n",
        "sns.countplot(data=df, x='Fuel', palette='viridis')  # Create a count plot for fuel types\n",
        "plt.title('Count of Cars by Fuel Type', fontsize=16)  # Set the title\n",
        "plt.xlabel('Fuel Type', fontsize=14)  # Label x-axis\n",
        "plt.ylabel('Number of Cars', fontsize=14)  # Label y-axis\n",
        "plt.xticks(rotation=45)  # Rotate x-axis labels for better readability\n",
        "plt.show()  # Display the plot\n",
        "\n"
      ],
      "metadata": {
        "colab": {
          "base_uri": "https://localhost:8080/",
          "height": 705
        },
        "id": "K3zD7sLKgDkp",
        "outputId": "b33b621b-73cc-4fd1-e9c8-65be68c660e0"
      },
      "execution_count": 50,
      "outputs": [
        {
          "output_type": "stream",
          "name": "stderr",
          "text": [
            "<ipython-input-50-172e3c1daf46>:3: FutureWarning: \n",
            "\n",
            "Passing `palette` without assigning `hue` is deprecated and will be removed in v0.14.0. Assign the `x` variable to `hue` and set `legend=False` for the same effect.\n",
            "\n",
            "  sns.countplot(data=df, x='Fuel', palette='viridis')  # Create a count plot for fuel types\n"
          ]
        },
        {
          "output_type": "display_data",
          "data": {
            "text/plain": [
              "<Figure size 1000x600 with 1 Axes>"
            ],
            "image/png": "[encoded data removed]"
          },
          "metadata": {}
        }
      ]
    },
    {
      "cell_type": "markdown",
      "source": [
        "This segment checks for and counts missing values in the DataFrame. It then visualizes missing data using a heatmap for a clear overview of where data might be missing."
      ],
      "metadata": {
        "id": "Q2UpFspggFzZ"
      }
    },
    {
      "cell_type": "code",
      "source": [
        "# Step 7: Check for missing values\n",
        "missing_values = df.isnull().sum()  # Count missing values in each column\n",
        "print(\"\\nMissing Values:\")\n",
        "print(missing_values)  # Display the count of missing values\n",
        "\n",
        "# Step 8: Visualize missing values\n",
        "plt.figure(figsize=(10, 6))  # Set the figure size\n",
        "sns.heatmap(df.isnull(), cbar=False, cmap='viridis')  # Create a heatmap of missing values\n",
        "plt.title('Missing Values Heatmap', fontsize=16)  # Set the title\n",
        "plt.xlabel('Columns', fontsize=14)  # Label x-axis\n",
        "plt.ylabel('Rows', fontsize=14)  # Label y-axis\n",
        "plt.show()  # Display the heatmap\n"
      ],
      "metadata": {
        "colab": {
          "base_uri": "https://localhost:8080/",
          "height": 885
        },
        "id": "-wYvqaYngIUR",
        "outputId": "bc1e1c66-09c5-45a6-f115-c7614b3f37bc"
      },
      "execution_count": 51,
      "outputs": [
        {
          "output_type": "stream",
          "name": "stdout",
          "text": [
            "\n",
            "Missing Values:\n",
            "Brand           0\n",
            "Model           0\n",
            "Year            0\n",
            "Price           0\n",
            "Fuel            0\n",
            "Color           0\n",
            "Engine Size     1\n",
            "Horsepower      0\n",
            "Transmission    0\n",
            "Rating          0\n",
            "dtype: int64\n"
          ]
        },
        {
          "output_type": "display_data",
          "data": {
            "text/plain": [
              "<Figure size 1000x600 with 1 Axes>"
            ],
            "image/png": "[encoded data removed]"
          },
          "metadata": {}
        }
      ]
    },
    {
      "cell_type": "markdown",
      "source": [
        "This segment retrieves and displays unique colors from the 'Color' column. It also visualizes the distribution of car prices using a histogram with a kernel density estimate (KDE) overlay.\n",
        "\n"
      ],
      "metadata": {
        "id": "0DSHA2L8gJpW"
      }
    },
    {
      "cell_type": "code",
      "source": [
        "# Step 9: Display unique values in the 'Color' column\n",
        "if 'Color' in df.columns:\n",
        "    unique_colors = df['Color'].unique()  # Get unique values in the 'Color' column\n",
        "    print(\"\\nUnique Colors Available in the Dataset:\")\n",
        "    print(unique_colors)  # Display unique colors\n",
        "else:\n",
        "    print(\"\\n'Color' column not found.\")  # Handle case where 'Color' column does not exist\n",
        "\n",
        "# Step 10: Visualizing the price distribution\n",
        "plt.figure(figsize=(10, 6))  # Set the figure size\n",
        "sns.histplot(df['Price'], bins=10, kde=True, color='blue')  # Create a histogram with density plot\n",
        "plt.title('Price Distribution of Cars', fontsize=16)  # Set the title\n",
        "plt.xlabel('Price', fontsize=14)  # Label x-axis\n",
        "plt.ylabel('Frequency', fontsize=14)  # Label y-axis\n",
        "plt.show()  # Display the histogram\n",
        "\n"
      ],
      "metadata": {
        "colab": {
          "base_uri": "https://localhost:8080/",
          "height": 628
        },
        "id": "wQAqsPS2gLzx",
        "outputId": "2913bd7b-bc24-455b-f3e0-528e3a6632e4"
      },
      "execution_count": 52,
      "outputs": [
        {
          "output_type": "stream",
          "name": "stdout",
          "text": [
            "\n",
            "Unique Colors Available in the Dataset:\n",
            "['Blue' 'Red' 'Black' 'White' 'Gray' 'Silver' 'Green' 'Yellow']\n"
          ]
        },
        {
          "output_type": "display_data",
          "data": {
            "text/plain": [
              "<Figure size 1000x600 with 1 Axes>"
            ],
            "image/png": "[encoded data removed]"
          },
          "metadata": {}
        }
      ]
    },
    {
      "cell_type": "markdown",
      "source": [
        "This final segment summarizes key insights about the dataset, including the total number of cars, average price, most common fuel type, and most common color."
      ],
      "metadata": {
        "id": "tNnZ6ktrgPLN"
      }
    },
    {
      "cell_type": "code",
      "source": [
        "# Step 11: Summary of key insights\n",
        "print(\"\\nSummary of Insights:\")\n",
        "print(f\"Total number of cars in the dataset: {df.shape[0]}\")  # Total number of cars\n",
        "print(f\"Average price of cars: {df['Price'].mean():.2f}\")  # Average price\n",
        "print(f\"Most common fuel type: {df['Fuel'].mode()[0]}\")  # Most common fuel type\n",
        "print(f\"Most common color: {df['Color'].mode()[0]}\")  # Most common color\n"
      ],
      "metadata": {
        "colab": {
          "base_uri": "https://localhost:8080/"
        },
        "id": "pN7-GOiJgPvF",
        "outputId": "6a1ab6f7-2cac-4aba-b2f9-b38d5e573f68"
      },
      "execution_count": 53,
      "outputs": [
        {
          "output_type": "stream",
          "name": "stdout",
          "text": [
            "\n",
            "Summary of Insights:\n",
            "Total number of cars in the dataset: 10\n",
            "Average price of cars: 27200.00\n",
            "Most common fuel type: Gasoline\n",
            "Most common color: Black\n"
          ]
        }
      ]
    }
  ]
}