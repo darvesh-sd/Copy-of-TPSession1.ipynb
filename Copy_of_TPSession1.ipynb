{
  "nbformat": 4,
  "nbformat_minor": 0,
  "metadata": {
    "colab": {
      "provenance": [],
      "authorship_tag": "ABX9TyOw/z3Rr02DgN70uO+ucsZ5",
      "include_colab_link": true
    },
    "kernelspec": {
      "name": "python3",
      "display_name": "Python 3"
    },
    "language_info": {
      "name": "python"
    }
  },
  "cells": [
    {
      "cell_type": "markdown",
      "metadata": {
        "id": "view-in-github",
        "colab_type": "text"
      },
      "source": [
        "<a href=\"https://colab.research.google.com/github/darvesh-sd/Copy-of-TPSession1.ipynb/blob/main/Copy_of_TPSession1.ipynb\" target=\"_parent\"><img src=\"https://colab.research.google.com/assets/colab-badge.svg\" alt=\"Open In Colab\"/></a>"
      ]
    },
    {
      "cell_type": "markdown",
      "source": [
        "Manipulation des données avec Python Panda - Darvesh"
      ],
      "metadata": {
        "id": "q3RJqGOUfp57"
      }
    },
    {
      "cell_type": "markdown",
      "source": [
        "This segment imports the necessary libraries. pandas is used for data manipulation, matplotlib and seaborn for visualization, and files allows you to upload your Excel file."
      ],
      "metadata": {
        "id": "iMFIj2TUfvs3"
      }
    },
    {
      "cell_type": "code",
      "source": [
        "# Step 1: Import necessary libraries\n",
        "import pandas as pd              # For data manipulation and analysis\n",
        "import matplotlib.pyplot as plt   # For data visualization\n",
        "import seaborn as sns            # For advanced data visualization\n",
        "from google.colab import files    # For uploading files in Google Colab\n",
        "\n",
        "# Set visualization style for seaborn\n",
        "sns.set(style='whitegrid')       # Use a white grid background for plots\n"
      ],
      "metadata": {
        "id": "S7UCx5pymwE-"
      },
      "execution_count": 21,
      "outputs": []
    },
    {
      "cell_type": "markdown",
      "source": [
        "This code prompts the user to upload the Excel file containing car brands data. The uploaded file is stored in a dictionary."
      ],
      "metadata": {
        "id": "mXDnM6Qdf2Fk"
      }
    },
    {
      "cell_type": "code",
      "source": [
        "# Step 2: Upload the Excel file\n",
        "print(\"Please upload the Excel file containing car brands data:\")\n",
        "uploaded = files.upload()  # Opens a file dialog for uploading the file\n",
        "\n"
      ],
      "metadata": {
        "id": "iWoIm8KTf4Dj"
      },
      "execution_count": null,
      "outputs": []
    },
    {
      "cell_type": "markdown",
      "source": [
        "For CSV files."
      ],
      "metadata": {
        "id": "Fuc-iKuTsh3e"
      }
    },
    {
      "cell_type": "code",
      "source": [
        "# Step 3 CSV: Read the uploaded CSV file into a DataFrame\n",
        "df = pd.read_csv(list(uploaded.keys())[0])  # Read the first uploaded file\n",
        "\n",
        "# Display the first few rows of the DataFrame\n",
        "print(\"Data Preview:\")\n",
        "print(df.head())  # Show the first 5 rows of the DataFrame\n"
      ],
      "metadata": {
        "id": "EjTmCe_pnk0j"
      },
      "execution_count": null,
      "outputs": []
    },
    {
      "cell_type": "markdown",
      "source": [
        "This segment reads the uploaded Excel file into a DataFrame using pandas. The engine='openpyxl' specifies that the file is in .xlsx format. The first few rows of the DataFrame are displayed to give a preview of the data."
      ],
      "metadata": {
        "id": "j_OO1ZKNf5VB"
      }
    },
    {
      "cell_type": "code",
      "source": [
        "# Step 3: Read the uploaded Excel file into a DataFrame\n",
        "# Specify the engine as 'openpyxl' for .xlsx files\n",
        "df = pd.read_excel(list(uploaded.keys())[0], engine='openpyxl')  # Read the first uploaded file\n",
        "\n",
        "# Display the first few rows of the DataFrame\n",
        "print(\"Data Preview:\")\n",
        "print(df.head())  # Show the first 5 rows of the DataFrame\n",
        "\n"
      ],
      "metadata": {
        "id": "ZmDO6RRRf7kw"
      },
      "execution_count": null,
      "outputs": []
    },
    {
      "cell_type": "markdown",
      "source": [
        "This segment provides general information about the DataFrame, including data types and the number of non-null entries. It also shows descriptive statistics such as mean, median, and standard deviation for numerical columns."
      ],
      "metadata": {
        "id": "aVYZsRaYf9kR"
      }
    },
    {
      "cell_type": "code",
      "source": [
        "# Step 4: Display general information about the DataFrame\n",
        "print(\"\\nData Information:\")\n",
        "print(df.info())  # Provides details like column names, data types, and non-null counts\n",
        "\n",
        "# Step 5: Display descriptive statistics for numerical columns\n",
        "print(\"\\nDescriptive Statistics:\")\n",
        "print(df.describe())  # Shows summary statistics for numerical columns\n",
        "\n"
      ],
      "metadata": {
        "id": "7Pula47xf_8l"
      },
      "execution_count": null,
      "outputs": []
    },
    {
      "cell_type": "markdown",
      "source": [
        "This segment creates a bar plot to visualize the number of cars for each fuel type. The figure size is set, and labels are added for clarity."
      ],
      "metadata": {
        "id": "qWI-RQ-qgBXH"
      }
    },
    {
      "cell_type": "code",
      "source": [
        "# Step 6: Visualize the count of cars by fuel type\n",
        "plt.figure(figsize=(10, 6))  # Set the figure size\n",
        "sns.countplot(data=df, x='Fuel', palette='viridis')  # Create a count plot for fuel types\n",
        "plt.title('Count of Cars by Fuel Type', fontsize=16)  # Set the title\n",
        "plt.xlabel('Fuel Type', fontsize=14)  # Label x-axis\n",
        "plt.ylabel('Number of Cars', fontsize=14)  # Label y-axis\n",
        "plt.xticks(rotation=45)  # Rotate x-axis labels for better readability\n",
        "plt.show()  # Display the plot\n",
        "\n"
      ],
      "metadata": {
        "id": "K3zD7sLKgDkp"
      },
      "execution_count": null,
      "outputs": []
    },
    {
      "cell_type": "markdown",
      "source": [
        "This segment checks for and counts missing values in the DataFrame. It then visualizes missing data using a heatmap for a clear overview of where data might be missing."
      ],
      "metadata": {
        "id": "Q2UpFspggFzZ"
      }
    },
    {
      "cell_type": "code",
      "source": [
        "# Step 7: Check for missing values\n",
        "missing_values = df.isnull().sum()  # Count missing values in each column\n",
        "print(\"\\nMissing Values:\")\n",
        "print(missing_values)  # Display the count of missing values\n",
        "\n",
        "# Step 8: Visualize missing values\n",
        "plt.figure(figsize=(10, 6))  # Set the figure size\n",
        "sns.heatmap(df.isnull(), cbar=False, cmap='viridis')  # Create a heatmap of missing values\n",
        "plt.title('Missing Values Heatmap', fontsize=16)  # Set the title\n",
        "plt.xlabel('Columns', fontsize=14)  # Label x-axis\n",
        "plt.ylabel('Rows', fontsize=14)  # Label y-axis\n",
        "plt.show()  # Display the heatmap\n"
      ],
      "metadata": {
        "id": "-wYvqaYngIUR"
      },
      "execution_count": null,
      "outputs": []
    },
    {
      "cell_type": "markdown",
      "source": [
        "This segment retrieves and displays unique colors from the 'Color' column. It also visualizes the distribution of car prices using a histogram with a kernel density estimate (KDE) overlay.\n",
        "\n"
      ],
      "metadata": {
        "id": "0DSHA2L8gJpW"
      }
    },
    {
      "cell_type": "code",
      "source": [
        "# Step 9: Display unique values in the 'Color' column\n",
        "if 'Color' in df.columns:\n",
        "    unique_colors = df['Color'].unique()  # Get unique values in the 'Color' column\n",
        "    print(\"\\nUnique Colors Available in the Dataset:\")\n",
        "    print(unique_colors)  # Display unique colors\n",
        "else:\n",
        "    print(\"\\n'Color' column not found.\")  # Handle case where 'Color' column does not exist\n",
        "\n",
        "# Step 10: Visualizing the price distribution\n",
        "plt.figure(figsize=(10, 6))  # Set the figure size\n",
        "sns.histplot(df['Price'], bins=10, kde=True, color='blue')  # Create a histogram with density plot\n",
        "plt.title('Price Distribution of Cars', fontsize=16)  # Set the title\n",
        "plt.xlabel('Price', fontsize=14)  # Label x-axis\n",
        "plt.ylabel('Frequency', fontsize=14)  # Label y-axis\n",
        "plt.show()  # Display the histogram\n",
        "\n"
      ],
      "metadata": {
        "id": "wQAqsPS2gLzx"
      },
      "execution_count": null,
      "outputs": []
    },
    {
      "cell_type": "markdown",
      "source": [
        "This final segment summarizes key insights about the dataset, including the total number of cars, average price, most common fuel type, and most common color."
      ],
      "metadata": {
        "id": "tNnZ6ktrgPLN"
      }
    },
    {
      "cell_type": "code",
      "source": [
        "# Step 11: Summary of key insights\n",
        "print(\"\\nSummary of Insights:\")\n",
        "print(f\"Total number of cars in the dataset: {df.shape[0]}\")  # Total number of cars\n",
        "print(f\"Average price of cars: {df['Price'].mean():.2f}\")  # Average price\n",
        "print(f\"Most common fuel type: {df['Fuel'].mode()[0]}\")  # Most common fuel type\n",
        "print(f\"Most common color: {df['Color'].mode()[0]}\")  # Most common color\n"
      ],
      "metadata": {
        "id": "pN7-GOiJgPvF"
      },
      "execution_count": null,
      "outputs": []
    }
  ]
}