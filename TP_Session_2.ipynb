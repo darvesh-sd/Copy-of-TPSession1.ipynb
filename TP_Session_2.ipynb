{
  "nbformat": 4,
  "nbformat_minor": 0,
  "metadata": {
    "colab": {
      "provenance": [],
      "mount_file_id": "19DtvttiAAkNysusf9zhNg2QOWW8p6bQE",
      "authorship_tag": "ABX9TyPjPrF2MqV3ak9r27DtAMtQ",
      "include_colab_link": true
    },
    "kernelspec": {
      "name": "python3",
      "display_name": "Python 3"
    },
    "language_info": {
      "name": "python"
    }
  },
  "cells": [
    {
      "cell_type": "markdown",
      "metadata": {
        "id": "view-in-github",
        "colab_type": "text"
      },
      "source": [
        "<a href=\"https://colab.research.google.com/github/darvesh-sd/Copy-of-TPSessions.ipynb/blob/main/TP_Session_2.ipynb\" target=\"_parent\"><img src=\"https://colab.research.google.com/assets/colab-badge.svg\" alt=\"Open In Colab\"/></a>"
      ]
    },
    {
      "cell_type": "markdown",
      "source": [
        "**Import Libraries and Upload Data**"
      ],
      "metadata": {
        "id": "cXj4OHkFdTJY"
      }
    },
    {
      "cell_type": "code",
      "execution_count": 2,
      "metadata": {
        "colab": {
          "base_uri": "https://localhost:8080/"
        },
        "id": "wtFkW72Tb_0z",
        "outputId": "2df35068-e595-4c71-9cfd-cae95b473030"
      },
      "outputs": [
        {
          "output_type": "stream",
          "name": "stdout",
          "text": [
            "Drive already mounted at /content/drive; to attempt to forcibly remount, call drive.mount(\"/content/drive\", force_remount=True).\n",
            "Data loaded successfully! Here are the first few rows:\n",
            "  Production ID    Car Model Production Date  Units Produced  \\\n",
            "0         P1000  Convertible      2023-11-24           499.0   \n",
            "1         P1001          SUV      2023-02-27           132.0   \n",
            "2         P1002        Truck      2023-01-13           311.0   \n",
            "3         P1003        Truck      2023-05-21            98.0   \n",
            "4         P1004  Convertible      2023-05-06            74.0   \n",
            "\n",
            "   Defects Reported    Inspector Factory Location  Production Cost  \n",
            "0               0.0   Jane Smith          Beijing         52258.67  \n",
            "1               0.0     John Doe            Tokyo         35271.36  \n",
            "2               1.0     John Doe            Tokyo         64307.05  \n",
            "3               0.0   Jane Smith          Detroit         24569.88  \n",
            "4               NaN  Alice Brown            Tokyo         39393.00  \n"
          ]
        }
      ],
      "source": [
        "# Import required libraries\n",
        "import pandas as pd\n",
        "from google.colab import drive\n",
        "\n",
        "# Mount Google Drive to access files\n",
        "drive.mount('/content/drive')\n",
        "\n",
        "# Specify the path to the CSV file in your Google Drive\n",
        "file_path = '/content/drive/MyDrive/car_production_report.csv'\n",
        "\n",
        "# Load the CSV file into a DataFrame\n",
        "df = pd.read_csv(file_path)\n",
        "print(\"Data loaded successfully! Here are the first few rows:\")\n",
        "print(df.head())\n"
      ]
    },
    {
      "cell_type": "markdown",
      "source": [
        "**Get a Quick Overview of the Dataset**"
      ],
      "metadata": {
        "id": "U2SrbbPjdWua"
      }
    },
    {
      "cell_type": "code",
      "source": [
        "# Basic dataset info\n",
        "print(\"Dataset Overview:\")\n",
        "df.info()\n",
        "\n",
        "# Display the first 5 rows for a quick glance at the data structure\n",
        "print(\"\\nFirst 5 rows of the dataset:\")\n",
        "print(df.head())\n",
        "\n",
        "# Missing values check\n",
        "print(\"\\nMissing values in each column:\")\n",
        "print(df.isnull().sum())\n"
      ],
      "metadata": {
        "colab": {
          "base_uri": "https://localhost:8080/"
        },
        "id": "oZA500xwcBKk",
        "outputId": "b53b19fd-386c-44d1-ce56-1e206c3457d3"
      },
      "execution_count": 3,
      "outputs": [
        {
          "output_type": "stream",
          "name": "stdout",
          "text": [
            "Dataset Overview:\n",
            "<class 'pandas.core.frame.DataFrame'>\n",
            "RangeIndex: 105 entries, 0 to 104\n",
            "Data columns (total 8 columns):\n",
            " #   Column            Non-Null Count  Dtype  \n",
            "---  ------            --------------  -----  \n",
            " 0   Production ID     105 non-null    object \n",
            " 1   Car Model         105 non-null    object \n",
            " 2   Production Date   105 non-null    object \n",
            " 3   Units Produced    99 non-null     float64\n",
            " 4   Defects Reported  103 non-null    float64\n",
            " 5   Inspector         105 non-null    object \n",
            " 6   Factory Location  105 non-null    object \n",
            " 7   Production Cost   105 non-null    float64\n",
            "dtypes: float64(3), object(5)\n",
            "memory usage: 6.7+ KB\n",
            "\n",
            "First 5 rows of the dataset:\n",
            "  Production ID    Car Model Production Date  Units Produced  \\\n",
            "0         P1000  Convertible      2023-11-24           499.0   \n",
            "1         P1001          SUV      2023-02-27           132.0   \n",
            "2         P1002        Truck      2023-01-13           311.0   \n",
            "3         P1003        Truck      2023-05-21            98.0   \n",
            "4         P1004  Convertible      2023-05-06            74.0   \n",
            "\n",
            "   Defects Reported    Inspector Factory Location  Production Cost  \n",
            "0               0.0   Jane Smith          Beijing         52258.67  \n",
            "1               0.0     John Doe            Tokyo         35271.36  \n",
            "2               1.0     John Doe            Tokyo         64307.05  \n",
            "3               0.0   Jane Smith          Detroit         24569.88  \n",
            "4               NaN  Alice Brown            Tokyo         39393.00  \n",
            "\n",
            "Missing values in each column:\n",
            "Production ID       0\n",
            "Car Model           0\n",
            "Production Date     0\n",
            "Units Produced      6\n",
            "Defects Reported    2\n",
            "Inspector           0\n",
            "Factory Location    0\n",
            "Production Cost     0\n",
            "dtype: int64\n"
          ]
        }
      ]
    },
    {
      "cell_type": "markdown",
      "source": [
        "**Drop Duplicate Rows**"
      ],
      "metadata": {
        "id": "uKubcUq6dZvq"
      }
    },
    {
      "cell_type": "code",
      "source": [
        "# Drop duplicates and show the difference in row count\n",
        "initial_count = len(df)\n",
        "df.drop_duplicates(inplace=True)\n",
        "final_count = len(df)\n",
        "print(f\"\\nNumber of duplicate rows removed: {initial_count - final_count}\")\n",
        "print(\"Updated data shape:\", df.shape)\n"
      ],
      "metadata": {
        "colab": {
          "base_uri": "https://localhost:8080/"
        },
        "id": "I8PrrpkkcEhJ",
        "outputId": "3d117159-8ccb-4e59-f1d8-34b60cd6796e"
      },
      "execution_count": 4,
      "outputs": [
        {
          "output_type": "stream",
          "name": "stdout",
          "text": [
            "\n",
            "Number of duplicate rows removed: 5\n",
            "Updated data shape: (100, 8)\n"
          ]
        }
      ]
    },
    {
      "cell_type": "markdown",
      "source": [
        "**Fill Missing Values**"
      ],
      "metadata": {
        "id": "CU4-BtCodj44"
      }
    },
    {
      "cell_type": "code",
      "source": [
        "# Fill missing values in numerical columns with median\n",
        "num_cols = df.select_dtypes(include=['float64', 'int64']).columns\n",
        "df[num_cols] = df[num_cols].fillna(df[num_cols].median())\n",
        "\n",
        "# Fill missing values in categorical columns with mode\n",
        "cat_cols = df.select_dtypes(include=['object']).columns\n",
        "df[cat_cols] = df[cat_cols].fillna(df[cat_cols].mode().iloc[0])\n",
        "\n",
        "# Verify missing values are handled\n",
        "print(\"\\nMissing values after filling:\")\n",
        "print(df.isnull().sum())\n"
      ],
      "metadata": {
        "colab": {
          "base_uri": "https://localhost:8080/"
        },
        "id": "xhFO-rgocLjs",
        "outputId": "0036e2a5-c2bd-4ee1-9fa0-056b1815823c"
      },
      "execution_count": 5,
      "outputs": [
        {
          "output_type": "stream",
          "name": "stdout",
          "text": [
            "\n",
            "Missing values after filling:\n",
            "Production ID       0\n",
            "Car Model           0\n",
            "Production Date     0\n",
            "Units Produced      0\n",
            "Defects Reported    0\n",
            "Inspector           0\n",
            "Factory Location    0\n",
            "Production Cost     0\n",
            "dtype: int64\n"
          ]
        }
      ]
    },
    {
      "cell_type": "markdown",
      "source": [
        "**Convert Data Types (e.g., Dates)**"
      ],
      "metadata": {
        "id": "DzD9dR2seUlU"
      }
    },
    {
      "cell_type": "code",
      "source": [
        "# Convert 'date' column to datetime if present\n",
        "if 'date' in df.columns:\n",
        "    df['date'] = pd.to_datetime(df['date'], errors='coerce')\n",
        "    print(\"\\n'Converted 'date' column to datetime format.\")\n",
        "\n",
        "# Check updated data types\n",
        "print(\"\\nData types after conversion:\")\n",
        "print(df.dtypes)\n"
      ],
      "metadata": {
        "colab": {
          "base_uri": "https://localhost:8080/"
        },
        "id": "zOQbqG6zcNIp",
        "outputId": "608e4139-cf8e-422e-c0b1-42a8f8daf3ce"
      },
      "execution_count": 6,
      "outputs": [
        {
          "output_type": "stream",
          "name": "stdout",
          "text": [
            "\n",
            "Data types after conversion:\n",
            "Production ID        object\n",
            "Car Model            object\n",
            "Production Date      object\n",
            "Units Produced      float64\n",
            "Defects Reported    float64\n",
            "Inspector            object\n",
            "Factory Location     object\n",
            "Production Cost     float64\n",
            "dtype: object\n"
          ]
        }
      ]
    },
    {
      "cell_type": "markdown",
      "source": [
        "**Normalize Text Columns**"
      ],
      "metadata": {
        "id": "7ZFx51p9eXmX"
      }
    },
    {
      "cell_type": "code",
      "source": [
        "# Convert all string columns to lowercase for consistency\n",
        "for col in cat_cols:\n",
        "    df[col] = df[col].str.lower()\n",
        "\n",
        "print(\"\\nFirst 5 rows after normalizing text columns:\")\n",
        "print(df[cat_cols].head())\n"
      ],
      "metadata": {
        "colab": {
          "base_uri": "https://localhost:8080/"
        },
        "id": "Elk6RIkbcP0l",
        "outputId": "d98fe603-e9ff-4c61-8219-1dfd2f8e604d"
      },
      "execution_count": 7,
      "outputs": [
        {
          "output_type": "stream",
          "name": "stdout",
          "text": [
            "\n",
            "First 5 rows after normalizing text columns:\n",
            "  Production ID    Car Model Production Date    Inspector Factory Location\n",
            "0         p1000  convertible      2023-11-24   jane smith          beijing\n",
            "1         p1001          suv      2023-02-27     john doe            tokyo\n",
            "2         p1002        truck      2023-01-13     john doe            tokyo\n",
            "3         p1003        truck      2023-05-21   jane smith          detroit\n",
            "4         p1004  convertible      2023-05-06  alice brown            tokyo\n"
          ]
        }
      ]
    },
    {
      "cell_type": "markdown",
      "source": [
        "**Identify and Handle Outliers**"
      ],
      "metadata": {
        "id": "FVLByUpLea-F"
      }
    },
    {
      "cell_type": "code",
      "source": [
        "from scipy import stats\n",
        "import numpy as np\n",
        "\n",
        "# Remove rows where Z-scores are greater than 3 (indicating outliers)\n",
        "initial_shape = df.shape\n",
        "df = df[(np.abs(stats.zscore(df[num_cols])) < 3).all(axis=1)]\n",
        "print(f\"\\nRemoved outliers. Row count changed from {initial_shape[0]} to {df.shape[0]}.\")\n"
      ],
      "metadata": {
        "colab": {
          "base_uri": "https://localhost:8080/"
        },
        "id": "QF2g-oh7cRLv",
        "outputId": "2c207013-65ef-4320-d7f2-6b9ede8536d7"
      },
      "execution_count": 8,
      "outputs": [
        {
          "output_type": "stream",
          "name": "stdout",
          "text": [
            "\n",
            "Removed outliers. Row count changed from 100 to 100.\n"
          ]
        }
      ]
    },
    {
      "cell_type": "markdown",
      "source": [
        "**Rename Columns for Consistency**"
      ],
      "metadata": {
        "id": "LIuU_zGPepk6"
      }
    },
    {
      "cell_type": "code",
      "source": [
        "# Rename columns to be lowercase and replace spaces with underscores\n",
        "df.columns = df.columns.str.replace(' ', '_').str.lower()\n",
        "print(\"\\nUpdated column names:\")\n",
        "print(df.columns)\n"
      ],
      "metadata": {
        "colab": {
          "base_uri": "https://localhost:8080/"
        },
        "id": "r8C0wPFIdOWA",
        "outputId": "ec47e7bd-9cef-421b-d680-89da0bb6f018"
      },
      "execution_count": 9,
      "outputs": [
        {
          "output_type": "stream",
          "name": "stdout",
          "text": [
            "\n",
            "Updated column names:\n",
            "Index(['production_id', 'car_model', 'production_date', 'units_produced',\n",
            "       'defects_reported', 'inspector', 'factory_location', 'production_cost'],\n",
            "      dtype='object')\n"
          ]
        }
      ]
    },
    {
      "cell_type": "markdown",
      "source": [
        "**Create New Features**"
      ],
      "metadata": {
        "id": "yd1O578Ietio"
      }
    },
    {
      "cell_type": "code",
      "source": [
        "# If a 'date' column exists, create a 'year' column\n",
        "if 'date' in df.columns:\n",
        "    df['year'] = df['date'].dt.year\n",
        "    print(\"\\nCreated 'year' column from 'date' column:\")\n",
        "    print(df[['date', 'year']].head())\n"
      ],
      "metadata": {
        "id": "V-8ZKRrqdPeR"
      },
      "execution_count": 10,
      "outputs": []
    },
    {
      "cell_type": "markdown",
      "source": [
        "**Drop Unnecessary Columns**"
      ],
      "metadata": {
        "id": "tLRP3qxeeyZJ"
      }
    },
    {
      "cell_type": "code",
      "source": [
        "# Drop columns with a single unique value\n",
        "columns_dropped = []\n",
        "for col in df.columns:\n",
        "    if df[col].nunique() == 1:\n",
        "        columns_dropped.append(col)\n",
        "        df.drop(columns=[col], inplace=True)\n",
        "\n",
        "print(\"\\nColumns dropped due to a single unique value:\", columns_dropped)\n",
        "print(\"\\nRemaining columns:\")\n",
        "print(df.columns)\n"
      ],
      "metadata": {
        "colab": {
          "base_uri": "https://localhost:8080/"
        },
        "id": "HiVg5_pVdQCR",
        "outputId": "11fdf435-0c34-4698-f035-ef75dbcf6a11"
      },
      "execution_count": 11,
      "outputs": [
        {
          "output_type": "stream",
          "name": "stdout",
          "text": [
            "\n",
            "Columns dropped due to a single unique value: []\n",
            "\n",
            "Remaining columns:\n",
            "Index(['production_id', 'car_model', 'production_date', 'units_produced',\n",
            "       'defects_reported', 'inspector', 'factory_location', 'production_cost'],\n",
            "      dtype='object')\n"
          ]
        }
      ]
    },
    {
      "cell_type": "markdown",
      "source": [
        "**Final Check and Summary**"
      ],
      "metadata": {
        "id": "GOD3FqyNe3aR"
      }
    },
    {
      "cell_type": "code",
      "source": [
        "# Final overview of the cleaned dataset\n",
        "print(\"\\nFinal Dataset Information:\")\n",
        "df.info()\n",
        "\n",
        "# Display summary statistics\n",
        "print(\"\\nSummary statistics for numerical columns:\")\n",
        "print(df.describe(include=['float64', 'int64']))\n",
        "\n",
        "print(\"\\nFirst 5 rows of the final cleaned dataset:\")\n",
        "print(df.head())\n"
      ],
      "metadata": {
        "colab": {
          "base_uri": "https://localhost:8080/"
        },
        "id": "QbEFwD0AdR0Z",
        "outputId": "65520a45-c7e2-418f-dc2a-3893a9baf109"
      },
      "execution_count": 12,
      "outputs": [
        {
          "output_type": "stream",
          "name": "stdout",
          "text": [
            "\n",
            "Final Dataset Information:\n",
            "<class 'pandas.core.frame.DataFrame'>\n",
            "Index: 100 entries, 0 to 99\n",
            "Data columns (total 8 columns):\n",
            " #   Column            Non-Null Count  Dtype  \n",
            "---  ------            --------------  -----  \n",
            " 0   production_id     100 non-null    object \n",
            " 1   car_model         100 non-null    object \n",
            " 2   production_date   100 non-null    object \n",
            " 3   units_produced    100 non-null    float64\n",
            " 4   defects_reported  100 non-null    float64\n",
            " 5   inspector         100 non-null    object \n",
            " 6   factory_location  100 non-null    object \n",
            " 7   production_cost   100 non-null    float64\n",
            "dtypes: float64(3), object(5)\n",
            "memory usage: 7.0+ KB\n",
            "\n",
            "Summary statistics for numerical columns:\n",
            "       units_produced  defects_reported  production_cost\n",
            "count      100.000000        100.000000        100.00000\n",
            "mean       246.160000          1.160000      51035.43260\n",
            "std        142.251003          1.502321      18768.47513\n",
            "min          1.000000          0.000000      21055.53000\n",
            "25%        132.750000          0.000000      34500.13000\n",
            "50%        257.000000          0.000000      46471.29000\n",
            "75%        354.250000          2.000000      70260.03000\n",
            "max        499.000000          5.000000      79998.63000\n",
            "\n",
            "First 5 rows of the final cleaned dataset:\n",
            "  production_id    car_model production_date  units_produced  \\\n",
            "0         p1000  convertible      2023-11-24           499.0   \n",
            "1         p1001          suv      2023-02-27           132.0   \n",
            "2         p1002        truck      2023-01-13           311.0   \n",
            "3         p1003        truck      2023-05-21            98.0   \n",
            "4         p1004  convertible      2023-05-06            74.0   \n",
            "\n",
            "   defects_reported    inspector factory_location  production_cost  \n",
            "0               0.0   jane smith          beijing         52258.67  \n",
            "1               0.0     john doe            tokyo         35271.36  \n",
            "2               1.0     john doe            tokyo         64307.05  \n",
            "3               0.0   jane smith          detroit         24569.88  \n",
            "4               0.0  alice brown            tokyo         39393.00  \n"
          ]
        }
      ]
    },
    {
      "cell_type": "code",
      "source": [
        "from google.colab import files\n",
        "\n",
        "# Save the cleaned DataFrame to a new CSV file\n",
        "cleaned_file_path = '/content/cleaned_car_production_report.csv'\n",
        "df.to_csv(cleaned_file_path, index=False)\n",
        "\n",
        "# Download the file\n",
        "files.download(cleaned_file_path)\n"
      ],
      "metadata": {
        "colab": {
          "base_uri": "https://localhost:8080/",
          "height": 17
        },
        "id": "Q_wmuh35g8NY",
        "outputId": "f9a10d88-5de8-4955-9037-006070f32ed3"
      },
      "execution_count": 13,
      "outputs": [
        {
          "output_type": "display_data",
          "data": {
            "text/plain": [
              "<IPython.core.display.Javascript object>"
            ],
            "application/javascript": [
              "\n",
              "    async function download(id, filename, size) {\n",
              "      if (!google.colab.kernel.accessAllowed) {\n",
              "        return;\n",
              "      }\n",
              "      const div = document.createElement('div');\n",
              "      const label = document.createElement('label');\n",
              "      label.textContent = `Downloading \"${filename}\": `;\n",
              "      div.appendChild(label);\n",
              "      const progress = document.createElement('progress');\n",
              "      progress.max = size;\n",
              "      div.appendChild(progress);\n",
              "      document.body.appendChild(div);\n",
              "\n",
              "      const buffers = [];\n",
              "      let downloaded = 0;\n",
              "\n",
              "      const channel = await google.colab.kernel.comms.open(id);\n",
              "      // Send a message to notify the kernel that we're ready.\n",
              "      channel.send({})\n",
              "\n",
              "      for await (const message of channel.messages) {\n",
              "        // Send a message to notify the kernel that we're ready.\n",
              "        channel.send({})\n",
              "        if (message.buffers) {\n",
              "          for (const buffer of message.buffers) {\n",
              "            buffers.push(buffer);\n",
              "            downloaded += buffer.byteLength;\n",
              "            progress.value = downloaded;\n",
              "          }\n",
              "        }\n",
              "      }\n",
              "      const blob = new Blob(buffers, {type: 'application/binary'});\n",
              "      const a = document.createElement('a');\n",
              "      a.href = window.URL.createObjectURL(blob);\n",
              "      a.download = filename;\n",
              "      div.appendChild(a);\n",
              "      a.click();\n",
              "      div.remove();\n",
              "    }\n",
              "  "
            ]
          },
          "metadata": {}
        },
        {
          "output_type": "display_data",
          "data": {
            "text/plain": [
              "<IPython.core.display.Javascript object>"
            ],
            "application/javascript": [
              "download(\"download_82788fe6-c20f-4efa-94f3-7d745c2ce74b\", \"cleaned_car_production_report.csv\", 6218)"
            ]
          },
          "metadata": {}
        }
      ]
    }
  ]
}