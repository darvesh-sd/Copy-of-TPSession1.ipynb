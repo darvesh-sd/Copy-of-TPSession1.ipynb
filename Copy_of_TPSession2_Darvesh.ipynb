{
  "nbformat": 4,
  "nbformat_minor": 0,
  "metadata": {
    "colab": {
      "provenance": [],
      "mount_file_id": "1iYX9MqYsg6bMXVwz6cOKqwTaDHDjKkk3",
      "authorship_tag": "ABX9TyNNfCjFSbGvJZ56IAD00fOk",
      "include_colab_link": true
    },
    "kernelspec": {
      "name": "python3",
      "display_name": "Python 3"
    },
    "language_info": {
      "name": "python"
    }
  },
  "cells": [
    {
      "cell_type": "markdown",
      "metadata": {
        "id": "view-in-github",
        "colab_type": "text"
      },
      "source": [
        "<a href=\"https://colab.research.google.com/github/darvesh-sd/Copy-of-TPSession1.ipynb/blob/main/Copy_of_TPSession2_Darvesh.ipynb\" target=\"_parent\"><img src=\"https://colab.research.google.com/assets/colab-badge.svg\" alt=\"Open In Colab\"/></a>"
      ]
    },
    {
      "cell_type": "markdown",
      "source": [
        "**Mount Google Drive**\n",
        "\n",
        "- from google.colab import drive imports the Colab-specific drive module to enable mounting.\n",
        "- drive.mount('/content/drive') mounts Google Drive to Colab. Once mounted, files in Google Drive can be accessed via /content/drive."
      ],
      "metadata": {
        "id": "LVompSqw_Ix8"
      }
    },
    {
      "cell_type": "code",
      "source": [
        "from google.colab import drive\n",
        "drive.mount('/content/drive')"
      ],
      "metadata": {
        "collapsed": true,
        "id": "F9qrtBxf_aA_"
      },
      "execution_count": null,
      "outputs": []
    },
    {
      "cell_type": "code",
      "source": [
        "import pandas as pd\n",
        "\n",
        "# Load the CSV file from Google Drive\n",
        "df = pd.read_csv('/content/drive/MyDrive/car_data_template.csv')\n"
      ],
      "metadata": {
        "id": "5FL9ZxHfGI1U"
      },
      "execution_count": null,
      "outputs": []
    },
    {
      "cell_type": "markdown",
      "source": [
        "**Data Upload**\n",
        "\n",
        "- files.upload() opens a dialog box to let you choose a CSV file to upload from your local machine.\n",
        "- next(iter(uploaded)) grabs the filename of the uploaded file.\n",
        "- *pd*.read_csv() loads the CSV file into a Pandas DataFrame."
      ],
      "metadata": {
        "id": "Il2Tzwzo_mO4"
      }
    },
    {
      "cell_type": "code",
      "source": [
        "import pandas as pd\n",
        "from google.colab import files\n",
        "\n",
        "uploaded = files.upload()\n",
        "df = pd.read_csv(next(iter(uploaded)))\n"
      ],
      "metadata": {
        "id": "Ub4e1BKZ_zyU"
      },
      "execution_count": null,
      "outputs": []
    },
    {
      "cell_type": "markdown",
      "source": [
        "**Check data structure uploaded**\n",
        "\n",
        "- df.info() provides an overview of the dataset, including data types, column names, and memory usage.\n",
        "- df.head() displays the first few rows to give a sense of the data layout.\n",
        "- df.isnull().sum() counts the missing values in each column to help identify columns that need data cleaning."
      ],
      "metadata": {
        "id": "pe4t-Adu_3Q9"
      }
    },
    {
      "cell_type": "code",
      "source": [
        "print(\"Dataset Overview:\")\n",
        "print(df.info())\n",
        "print(\"\\nFirst few rows:\")\n",
        "print(df.head())\n",
        "print(\"\\nSummary of Missing Values:\")\n",
        "print(df.isnull().sum())\n"
      ],
      "metadata": {
        "id": "vPVLWje9AH3B"
      },
      "execution_count": null,
      "outputs": []
    },
    {
      "cell_type": "markdown",
      "source": [
        "**Data Cleaning and Preprocessing**\n",
        "\n",
        "- df.copy() creates a duplicate of the DataFrame to preserve the original data.\n",
        "- df_clean.drop_duplicates() removes any identical rows in the DataFrame.\n",
        "\n",
        "This removes duplicate rows and handle missing values using a \"smart imputation\" approach, filling in missing values differently depending on whether they’re numeric or categorical."
      ],
      "metadata": {
        "id": "o4xmgQ8DAKaN"
      }
    },
    {
      "cell_type": "code",
      "source": [
        "df_clean = df.copy()\n",
        "initial_rows = len(df_clean)\n",
        "df_clean = df_clean.drop_duplicates()\n",
        "print(f\"Duplicates removed: {initial_rows - len(df_clean)} rows\")\n"
      ],
      "metadata": {
        "id": "4NDw8XfiAewH"
      },
      "execution_count": null,
      "outputs": []
    },
    {
      "cell_type": "markdown",
      "source": [
        "Defining and applying a function for missing values"
      ],
      "metadata": {
        "id": "s-mQ9W2SAhN-"
      }
    },
    {
      "cell_type": "code",
      "source": [
        "def smart_impute(df, column):\n",
        "    if df[column].dtype in ['int64', 'float64']:\n",
        "        return df[column].fillna(df[column].median()) if 'brand' not in df.columns else df.groupby('brand')[column].transform(lambda x: x.fillna(x.median()))\n",
        "    else:\n",
        "        return df[column].fillna(df[column].mode()[0])\n"
      ],
      "metadata": {
        "id": "R9aT-1ziAu44"
      },
      "execution_count": null,
      "outputs": []
    },
    {
      "cell_type": "markdown",
      "source": [
        "**Data Type Optimization and String Cleaning**\n",
        "\n",
        "- Function Details:\n",
        " - clean_string() is used to remove whitespace and convert text to lowercase for consistent string formatting."
      ],
      "metadata": {
        "id": "IqkccAcCAxcZ"
      }
    },
    {
      "cell_type": "code",
      "source": [
        "def clean_string(value):\n",
        "    if pd.isna(value):\n",
        "        return value\n",
        "    return str(value).strip().lower()\n"
      ],
      "metadata": {
        "id": "BbqZynLoBBjn"
      },
      "execution_count": null,
      "outputs": []
    },
    {
      "cell_type": "markdown",
      "source": [
        "- The loop checks each column’s data type.\n",
        "- If the column is a string, clean_string() is applied.\n",
        "- If numeric, pd.to_numeric() attempts conversion to an optimized format."
      ],
      "metadata": {
        "id": "mUFbtuEuBD_2"
      }
    },
    {
      "cell_type": "code",
      "source": [
        "for column in df_clean.columns:\n",
        "    if df_clean[column].dtype == 'object':  # Clean string columns\n",
        "        df_clean[column] = df_clean[column].apply(clean_string)\n",
        "    elif df_clean[column].dtype in ['int64', 'float64']:  # Optimize numeric columns\n",
        "        df_clean[column] = pd.to_numeric(df_clean[column], errors='coerce')\n"
      ],
      "metadata": {
        "id": "7uh8iadrBKr5"
      },
      "execution_count": null,
      "outputs": []
    },
    {
      "cell_type": "markdown",
      "source": [
        "**Advanced Feature Engineering**\n",
        "\n",
        "- new insights based on the existing data. Here, we add columns like vehicle age, price per mile, and brand popularity."
      ],
      "metadata": {
        "id": "gDVMxwNdBNJq"
      }
    },
    {
      "cell_type": "code",
      "source": [
        "from datetime import datetime\n",
        "current_year = datetime.now().year\n"
      ],
      "metadata": {
        "id": "z2Tyx6DUBfTq"
      },
      "execution_count": null,
      "outputs": []
    },
    {
      "cell_type": "markdown",
      "source": [
        "- The above retrieves the current year, which we’ll use to calculate the vehicle’s age. It is calculated by subtracting each car’s year from the current year."
      ],
      "metadata": {
        "id": "-X6UzMinBixo"
      }
    },
    {
      "cell_type": "code",
      "source": [
        "# Calculate vehicle age based on the 'year' column\n",
        "if 'year' in df_clean.columns:\n",
        "    df_clean['vehicle_age'] = current_year - df_clean['year']\n"
      ],
      "metadata": {
        "id": "gM4NUyfmBqPz"
      },
      "execution_count": null,
      "outputs": []
    },
    {
      "cell_type": "markdown",
      "source": [
        "- price_per_mile is created by dividing the price by mileage. .clip(lower=1) prevents division by zero."
      ],
      "metadata": {
        "id": "bvOg963rBzTM"
      }
    },
    {
      "cell_type": "code",
      "source": [
        "# Calculate price per mile for value assessment if mileage and price are available\n",
        "if all(col in df_clean.columns for col in ['price', 'mileage']):\n",
        "    df_clean['price_per_mile'] = df_clean['price'] / df_clean['mileage'].clip(lower=1)\n"
      ],
      "metadata": {
        "id": "xVsSjR0RB3kJ"
      },
      "execution_count": null,
      "outputs": []
    },
    {
      "cell_type": "markdown",
      "source": [
        "- brand_popularity shows each brand’s frequency as a fraction of the total dataset.\n",
        "- value_counts(normalize=True) gives each brand’s percentage in the dataset."
      ],
      "metadata": {
        "id": "ay8yunM8B47g"
      }
    },
    {
      "cell_type": "code",
      "source": [
        "# Create a popularity index for each brand based on frequency in the dataset\n",
        "if 'brand' in df_clean.columns:\n",
        "    brand_counts = df_clean['brand'].value_counts(normalize=True)\n",
        "    df_clean['brand_popularity'] = df_clean['brand'].map(brand_counts)\n"
      ],
      "metadata": {
        "id": "4bW6DhCdCYi1"
      },
      "execution_count": null,
      "outputs": []
    },
    {
      "cell_type": "markdown",
      "source": [
        "**Outlier Detection and Treatment**\n",
        "\n",
        "Identification outliers in numeric columns using the Interquartile Range (IQR) method and then clips those outliers to reasonable limits.\n",
        "\n",
        "- detect_outliers() calculates the IQR to find lower and upper bounds for outliers."
      ],
      "metadata": {
        "id": "jSusOijzCiTX"
      }
    },
    {
      "cell_type": "code",
      "source": [
        "def detect_outliers(df, column):\n",
        "    Q1 = df[column].quantile(0.25)\n",
        "    Q3 = df[column].quantile(0.75)\n",
        "    IQR = Q3 - Q1\n",
        "    lower_bound, upper_bound = Q1 - 1.5 * IQR, Q3 + 1.5 * IQR\n",
        "    return lower_bound, upper_bound\n"
      ],
      "metadata": {
        "id": "flgPN-dsCxlo"
      },
      "execution_count": null,
      "outputs": []
    },
    {
      "cell_type": "markdown",
      "source": [
        "Use of these bounds to \"clip\" (limit) values in numeric columns. This loop applies the bounds to each numeric column, setting any outliers to the upper or lower limit."
      ],
      "metadata": {
        "id": "jysVs8wOC0Ql"
      }
    },
    {
      "cell_type": "code",
      "source": [
        "for column in df_clean.select_dtypes(include=['float64', 'int64']).columns:\n",
        "    if column != 'year':\n",
        "        lower, upper = detect_outliers(df_clean, column)\n",
        "        df_clean[column] = df_clean[column].clip(lower, upper)\n"
      ],
      "metadata": {
        "id": "zlmJBlBhDJJt"
      },
      "execution_count": null,
      "outputs": []
    },
    {
      "cell_type": "markdown",
      "source": [
        "**Data Visualization and Analysis**\n",
        "\n",
        "This section visualizes key patterns in the dataset, using subplots for better organization and a variety of plot types.\n",
        "\n",
        "- plt.style.use('seaborn-darkgrid') sets the plotting style.\n",
        "- sns.set_palette(\"muted\") defines a color palette.\n",
        "- plt.figure(figsize=(20, 15)) creates a large plotting area."
      ],
      "metadata": {
        "id": "g-xZ3g1dDKN9"
      }
    },
    {
      "cell_type": "code",
      "source": [
        "import matplotlib.pyplot as plt\n",
        "import seaborn as sns\n",
        "\n",
        "# Set style and figure size\n",
        "plt.style.use('seaborn-darkgrid')\n",
        "sns.set_palette(\"deep\")\n",
        "plt.figure(figsize=(20, 18))\n"
      ],
      "metadata": {
        "id": "5o_jykvMDcsN"
      },
      "execution_count": null,
      "outputs": []
    },
    {
      "cell_type": "markdown",
      "source": [
        "sns.histplot() shows the distribution of prices."
      ],
      "metadata": {
        "id": "0jN93KBrDd-h"
      }
    },
    {
      "cell_type": "code",
      "source": [
        "# 1. Price Distribution with KDE (Kernel Density Estimate)\n",
        "plt.subplot(3, 2, 1)\n",
        "sns.histplot(data=df_clean, x='price', bins=40, kde=True)\n",
        "plt.title('Distribution of Prices with KDE')\n",
        "plt.xlabel('Price')\n",
        "plt.ylabel('Count')\n"
      ],
      "metadata": {
        "id": "8SEtymcYDj-Z"
      },
      "execution_count": null,
      "outputs": []
    },
    {
      "cell_type": "markdown",
      "source": [
        "**Price by Brand Boxplot:**\n",
        "\n",
        "- The boxplot shows the spread of car prices for each brand. This visualization helps in identifying price ranges, median prices, and potential outliers for each brand.\n",
        "- rotation=45 rotates the brand names for readability."
      ],
      "metadata": {
        "id": "84fbRQu9p2F7"
      }
    },
    {
      "cell_type": "code",
      "source": [
        "# 2. Price by Brand Boxplot - Show distribution of price for each brand\n",
        "if 'brand' in df_clean.columns:\n",
        "    plt.subplot(3, 2, 2)\n",
        "    sns.boxplot(data=df_clean, x='brand', y='price')\n",
        "    plt.xticks(rotation=45)\n",
        "    plt.title('Price Distribution by Brand')\n",
        "    plt.xlabel('Brand')\n",
        "    plt.ylabel('Price')\n"
      ],
      "metadata": {
        "id": "nlKO2g-2DqzX"
      },
      "execution_count": null,
      "outputs": []
    },
    {
      "cell_type": "markdown",
      "source": [
        "**Correlation Heatmap for Numerical Columns:**\n",
        "\n",
        "- A heatmap shows correlations between numerical features in the dataset. For instance, it can highlight relationships such as mileage and vehicle age or price and year.\n",
        "- center=0 places the midpoint at zero, with colors showing positive and negative correlations."
      ],
      "metadata": {
        "id": "jORP4zRU-kTv"
      }
    },
    {
      "cell_type": "code",
      "source": [
        "# 3. Correlation Heatmap - For all numerical columns\n",
        "plt.subplot(3, 2, 3)\n",
        "numeric_cols = df_clean.select_dtypes(include=['float64', 'int64']).columns\n",
        "correlation = df_clean[numeric_cols].corr()\n",
        "sns.heatmap(correlation, annot=True, cmap='coolwarm', center=0, linewidths=1)\n",
        "plt.title('Correlation Heatmap')\n",
        "plt.xlabel('Numerical Features')\n",
        "plt.ylabel('Numerical Features')\n"
      ],
      "metadata": {
        "id": "9g7mFoLzDxYM"
      },
      "execution_count": null,
      "outputs": []
    },
    {
      "cell_type": "markdown",
      "source": [
        "**Vehicle Age vs. Price Scatter Plot:**\n",
        "\n",
        "- This plot examines how vehicle age influences price. Generally, newer vehicles may have higher prices.\n",
        "- Using hue='brand' helps distinguish between brands, adding a layer of brand-specific insights."
      ],
      "metadata": {
        "id": "oWwCrs5O-sLc"
      }
    },
    {
      "cell_type": "code",
      "source": [
        "# 4. Vehicle Age vs. Price Scatter Plot - Analyze the impact of age on price\n",
        "if 'vehicle_age' in df_clean.columns and 'price' in df_clean.columns:\n",
        "    plt.subplot(3, 2, 4)\n",
        "    sns.scatterplot(data=df_clean, x='vehicle_age', y='price', hue='brand', palette='tab10', alpha=0.6)\n",
        "    plt.title('Vehicle Age vs. Price')\n",
        "    plt.xlabel('Vehicle Age (years)')\n",
        "    plt.ylabel('Price')"
      ],
      "metadata": {
        "id": "YrZdFDt7M9rv"
      },
      "execution_count": null,
      "outputs": []
    },
    {
      "cell_type": "markdown",
      "source": [
        "**Price Category Count Plot:**\n",
        "\n",
        "- This count plot visualizes how many vehicles fall into each price category (e.g., Budget, Economy, Mid-range, etc.).\n",
        "- It helps assess the market segment concentration within the dataset."
      ],
      "metadata": {
        "id": "BEo1aNaa-4PN"
      }
    },
    {
      "cell_type": "code",
      "source": [
        "# 5. Price Category Count Plot - Shows the distribution of vehicles by price category\n",
        "\n",
        "# Step 1: Ensure 'price_category' column exists and is populated\n",
        "if 'price' in df_clean.columns:\n",
        "    if 'price_category' not in df_clean.columns or df_clean['price_category'].isnull().any():\n",
        "        # Create 'price_category' based on quantiles of 'price'\n",
        "        df_clean['price_category'] = pd.qcut(\n",
        "            df_clean['price'].fillna(df_clean['price'].median()),  # Handle missing prices by filling with median\n",
        "            q=5,\n",
        "            labels=['Budget', 'Economy', 'Mid-range', 'Premium', 'Luxury']\n",
        "        )\n",
        "        print(\"Price categories created successfully.\")\n",
        "\n",
        "# Step 2: Plot the distribution of vehicles by price category\n",
        "if 'price_category' in df_clean.columns:\n",
        "    plt.figure(figsize=(10, 6))  # Adjust figure size for clarity\n",
        "    sns.countplot(\n",
        "        data=df_clean,\n",
        "        x='price_category',\n",
        "        palette='muted',\n",
        "        order=['Budget', 'Economy', 'Mid-range', 'Premium', 'Luxury']\n",
        "    )\n",
        "    plt.title('Count of Vehicles by Price Category')\n",
        "    plt.xlabel('Price Category')\n",
        "    plt.ylabel('Number of Vehicles')\n",
        "    plt.xticks(rotation=45)  # Rotate x labels for better readability\n",
        "    plt.show()\n",
        "else:\n",
        "    print(\"The 'price_category' column is missing and could not be created.\")\n",
        "\n"
      ],
      "metadata": {
        "id": "rH9G4zBWNBWi"
      },
      "execution_count": null,
      "outputs": []
    },
    {
      "cell_type": "markdown",
      "source": [
        "**Mileage vs. Price Scatter Plot by Brand:**\n",
        "\n",
        "- This scatter plot compares mileage with price, showing trends between how much a car is used (mileage) and its price.\n",
        "- Color-coding each brand highlights brand-specific trends, such as brands with higher mileage maintaining higher prices."
      ],
      "metadata": {
        "id": "1w314QzP_A3L"
      }
    },
    {
      "cell_type": "code",
      "source": [
        "# 6. Mileage vs Price Relationship - Mileage trend by price range\n",
        "if all(col in df_clean.columns for col in ['mileage', 'price']):\n",
        "    plt.subplot(3, 2, 6)\n",
        "    sns.scatterplot(data=df_clean, x='mileage', y='price', hue='brand', palette='tab20', alpha=0.5)\n",
        "    plt.title('Mileage vs Price by Brand')\n",
        "    plt.xlabel('Mileage')\n",
        "    plt.ylabel('Price')\n",
        "\n",
        "plt.tight_layout()\n",
        "plt.show()"
      ],
      "metadata": {
        "id": "-Pny9pe-NE-3"
      },
      "execution_count": null,
      "outputs": []
    },
    {
      "cell_type": "markdown",
      "source": [
        "**Summary and Export Cleaned Data**\n",
        "\n",
        "Here it saves the cleaned and processed data for future use.\n",
        "\n",
        "- df_clean.describe() gives summary statistics for the cleaned data."
      ],
      "metadata": {
        "id": "o4kFrrolD0Xk"
      }
    },
    {
      "cell_type": "code",
      "source": [
        "print(\"\\nSummary Statistics:\")\n",
        "print(df_clean.describe().round(2))\n"
      ],
      "metadata": {
        "id": "47Hr_vfGEDJS"
      },
      "execution_count": null,
      "outputs": []
    },
    {
      "cell_type": "markdown",
      "source": [
        "df_clean.to_csv() saves the cleaned data to a CSV file, so it can be reused without re-running the code."
      ],
      "metadata": {
        "id": "34JF_qqYEJi5"
      }
    },
    {
      "cell_type": "code",
      "source": [
        "cleaned_filename = 'cars_cleaned.csv'\n",
        "df_clean.to_csv(cleaned_filename, index=False)\n"
      ],
      "metadata": {
        "id": "iAmua241EQHM"
      },
      "execution_count": null,
      "outputs": []
    }
  ]
}